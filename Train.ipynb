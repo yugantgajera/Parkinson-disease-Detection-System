{
 "cells": [
  {
   "cell_type": "markdown",
   "metadata": {},
   "source": [
    "First let's **load the data**"
   ]
  },
  {
   "cell_type": "code",
   "execution_count": 183,
   "metadata": {
    "collapsed": true
   },
   "outputs": [],
   "source": [
    "import pandas as pd\n",
    "import numpy as np\n",
    "import os, sys"
   ]
  },
  {
   "cell_type": "code",
   "execution_count": 184,
   "metadata": {},
   "outputs": [
    {
     "data": {
      "text/html": [
       "<div>\n",
       "<style>\n",
       "    .dataframe thead tr:only-child th {\n",
       "        text-align: right;\n",
       "    }\n",
       "\n",
       "    .dataframe thead th {\n",
       "        text-align: left;\n",
       "    }\n",
       "\n",
       "    .dataframe tbody tr th {\n",
       "        vertical-align: top;\n",
       "    }\n",
       "</style>\n",
       "<table border=\"1\" class=\"dataframe\">\n",
       "  <thead>\n",
       "    <tr style=\"text-align: right;\">\n",
       "      <th></th>\n",
       "      <th>name</th>\n",
       "      <th>MDVP:Fo(Hz)</th>\n",
       "      <th>MDVP:Fhi(Hz)</th>\n",
       "      <th>MDVP:Flo(Hz)</th>\n",
       "      <th>MDVP:Jitter(%)</th>\n",
       "      <th>MDVP:Jitter(Abs)</th>\n",
       "      <th>MDVP:RAP</th>\n",
       "      <th>MDVP:PPQ</th>\n",
       "      <th>Jitter:DDP</th>\n",
       "      <th>MDVP:Shimmer</th>\n",
       "      <th>...</th>\n",
       "      <th>Shimmer:DDA</th>\n",
       "      <th>NHR</th>\n",
       "      <th>HNR</th>\n",
       "      <th>status</th>\n",
       "      <th>RPDE</th>\n",
       "      <th>DFA</th>\n",
       "      <th>spread1</th>\n",
       "      <th>spread2</th>\n",
       "      <th>D2</th>\n",
       "      <th>PPE</th>\n",
       "    </tr>\n",
       "  </thead>\n",
       "  <tbody>\n",
       "    <tr>\n",
       "      <th>0</th>\n",
       "      <td>phon_R01_S01_1</td>\n",
       "      <td>119.992</td>\n",
       "      <td>157.302</td>\n",
       "      <td>74.997</td>\n",
       "      <td>0.00784</td>\n",
       "      <td>0.00007</td>\n",
       "      <td>0.00370</td>\n",
       "      <td>0.00554</td>\n",
       "      <td>0.01109</td>\n",
       "      <td>0.04374</td>\n",
       "      <td>...</td>\n",
       "      <td>0.06545</td>\n",
       "      <td>0.02211</td>\n",
       "      <td>21.033</td>\n",
       "      <td>1</td>\n",
       "      <td>0.414783</td>\n",
       "      <td>0.815285</td>\n",
       "      <td>-4.813031</td>\n",
       "      <td>0.266482</td>\n",
       "      <td>2.301442</td>\n",
       "      <td>0.284654</td>\n",
       "    </tr>\n",
       "    <tr>\n",
       "      <th>1</th>\n",
       "      <td>phon_R01_S01_2</td>\n",
       "      <td>122.400</td>\n",
       "      <td>148.650</td>\n",
       "      <td>113.819</td>\n",
       "      <td>0.00968</td>\n",
       "      <td>0.00008</td>\n",
       "      <td>0.00465</td>\n",
       "      <td>0.00696</td>\n",
       "      <td>0.01394</td>\n",
       "      <td>0.06134</td>\n",
       "      <td>...</td>\n",
       "      <td>0.09403</td>\n",
       "      <td>0.01929</td>\n",
       "      <td>19.085</td>\n",
       "      <td>1</td>\n",
       "      <td>0.458359</td>\n",
       "      <td>0.819521</td>\n",
       "      <td>-4.075192</td>\n",
       "      <td>0.335590</td>\n",
       "      <td>2.486855</td>\n",
       "      <td>0.368674</td>\n",
       "    </tr>\n",
       "    <tr>\n",
       "      <th>2</th>\n",
       "      <td>phon_R01_S01_3</td>\n",
       "      <td>116.682</td>\n",
       "      <td>131.111</td>\n",
       "      <td>111.555</td>\n",
       "      <td>0.01050</td>\n",
       "      <td>0.00009</td>\n",
       "      <td>0.00544</td>\n",
       "      <td>0.00781</td>\n",
       "      <td>0.01633</td>\n",
       "      <td>0.05233</td>\n",
       "      <td>...</td>\n",
       "      <td>0.08270</td>\n",
       "      <td>0.01309</td>\n",
       "      <td>20.651</td>\n",
       "      <td>1</td>\n",
       "      <td>0.429895</td>\n",
       "      <td>0.825288</td>\n",
       "      <td>-4.443179</td>\n",
       "      <td>0.311173</td>\n",
       "      <td>2.342259</td>\n",
       "      <td>0.332634</td>\n",
       "    </tr>\n",
       "    <tr>\n",
       "      <th>3</th>\n",
       "      <td>phon_R01_S01_4</td>\n",
       "      <td>116.676</td>\n",
       "      <td>137.871</td>\n",
       "      <td>111.366</td>\n",
       "      <td>0.00997</td>\n",
       "      <td>0.00009</td>\n",
       "      <td>0.00502</td>\n",
       "      <td>0.00698</td>\n",
       "      <td>0.01505</td>\n",
       "      <td>0.05492</td>\n",
       "      <td>...</td>\n",
       "      <td>0.08771</td>\n",
       "      <td>0.01353</td>\n",
       "      <td>20.644</td>\n",
       "      <td>1</td>\n",
       "      <td>0.434969</td>\n",
       "      <td>0.819235</td>\n",
       "      <td>-4.117501</td>\n",
       "      <td>0.334147</td>\n",
       "      <td>2.405554</td>\n",
       "      <td>0.368975</td>\n",
       "    </tr>\n",
       "    <tr>\n",
       "      <th>4</th>\n",
       "      <td>phon_R01_S01_5</td>\n",
       "      <td>116.014</td>\n",
       "      <td>141.781</td>\n",
       "      <td>110.655</td>\n",
       "      <td>0.01284</td>\n",
       "      <td>0.00011</td>\n",
       "      <td>0.00655</td>\n",
       "      <td>0.00908</td>\n",
       "      <td>0.01966</td>\n",
       "      <td>0.06425</td>\n",
       "      <td>...</td>\n",
       "      <td>0.10470</td>\n",
       "      <td>0.01767</td>\n",
       "      <td>19.649</td>\n",
       "      <td>1</td>\n",
       "      <td>0.417356</td>\n",
       "      <td>0.823484</td>\n",
       "      <td>-3.747787</td>\n",
       "      <td>0.234513</td>\n",
       "      <td>2.332180</td>\n",
       "      <td>0.410335</td>\n",
       "    </tr>\n",
       "  </tbody>\n",
       "</table>\n",
       "<p>5 rows × 24 columns</p>\n",
       "</div>"
      ],
      "text/plain": [
       "             name  MDVP:Fo(Hz)  MDVP:Fhi(Hz)  MDVP:Flo(Hz)  MDVP:Jitter(%)  \\\n",
       "0  phon_R01_S01_1      119.992       157.302        74.997         0.00784   \n",
       "1  phon_R01_S01_2      122.400       148.650       113.819         0.00968   \n",
       "2  phon_R01_S01_3      116.682       131.111       111.555         0.01050   \n",
       "3  phon_R01_S01_4      116.676       137.871       111.366         0.00997   \n",
       "4  phon_R01_S01_5      116.014       141.781       110.655         0.01284   \n",
       "\n",
       "   MDVP:Jitter(Abs)  MDVP:RAP  MDVP:PPQ  Jitter:DDP  MDVP:Shimmer    ...     \\\n",
       "0           0.00007   0.00370   0.00554     0.01109       0.04374    ...      \n",
       "1           0.00008   0.00465   0.00696     0.01394       0.06134    ...      \n",
       "2           0.00009   0.00544   0.00781     0.01633       0.05233    ...      \n",
       "3           0.00009   0.00502   0.00698     0.01505       0.05492    ...      \n",
       "4           0.00011   0.00655   0.00908     0.01966       0.06425    ...      \n",
       "\n",
       "   Shimmer:DDA      NHR     HNR  status      RPDE       DFA   spread1  \\\n",
       "0      0.06545  0.02211  21.033       1  0.414783  0.815285 -4.813031   \n",
       "1      0.09403  0.01929  19.085       1  0.458359  0.819521 -4.075192   \n",
       "2      0.08270  0.01309  20.651       1  0.429895  0.825288 -4.443179   \n",
       "3      0.08771  0.01353  20.644       1  0.434969  0.819235 -4.117501   \n",
       "4      0.10470  0.01767  19.649       1  0.417356  0.823484 -3.747787   \n",
       "\n",
       "    spread2        D2       PPE  \n",
       "0  0.266482  2.301442  0.284654  \n",
       "1  0.335590  2.486855  0.368674  \n",
       "2  0.311173  2.342259  0.332634  \n",
       "3  0.334147  2.405554  0.368975  \n",
       "4  0.234513  2.332180  0.410335  \n",
       "\n",
       "[5 rows x 24 columns]"
      ]
     },
     "execution_count": 184,
     "metadata": {},
     "output_type": "execute_result"
    }
   ],
   "source": [
    "df = pd.read_csv('parkinsons.data')\n",
    "df.head()"
   ]
  },
  {
   "cell_type": "markdown",
   "metadata": {},
   "source": [
    "Then let's get the **features** and **labels**"
   ]
  },
  {
   "cell_type": "code",
   "execution_count": 185,
   "metadata": {},
   "outputs": [],
   "source": [
    "features = df.loc[:, df.columns != 'status'].values[:, 1:]\n",
    "labels = df.loc[:, 'status'].values"
   ]
  },
  {
   "cell_type": "markdown",
   "metadata": {},
   "source": [
    "Let's do a quick sweep to see what the data looks like in terms of signal:"
   ]
  },
  {
   "cell_type": "code",
   "execution_count": 186,
   "metadata": {},
   "outputs": [
    {
     "data": {
      "text/plain": [
       "(147, 48)"
      ]
     },
     "execution_count": 186,
     "metadata": {},
     "output_type": "execute_result"
    }
   ],
   "source": [
    "labels[labels == 1].shape[0], labels[labels == 0].shape[0]"
   ]
  },
  {
   "cell_type": "markdown",
   "metadata": {},
   "source": [
    "Not too good... we have about triple the number of observations for one label as the other, and not many total datapoints. We'll make do!\n",
    "\n",
    "Next let's **scale** the data between -1 and 1. Our labels can stay 0 and 1."
   ]
  },
  {
   "cell_type": "code",
   "execution_count": 187,
   "metadata": {},
   "outputs": [],
   "source": [
    "def warn(*args, **kwargs):\n",
    "    pass\n",
    "import warnings\n",
    "warnings.warn = warn\n",
    "warnings.filterwarnings(\"ignore\", category=DeprecationWarning)\n",
    "from sklearn.preprocessing import MinMaxScaler\n",
    "scaler = MinMaxScaler((-1, 1))\n",
    "X = scaler.fit_transform(features)\n",
    "Y = labels"
   ]
  },
  {
   "cell_type": "markdown",
   "metadata": {},
   "source": [
    "Next split the training set. I found 14% test works great for my random seed."
   ]
  },
  {
   "cell_type": "code",
   "execution_count": 188,
   "metadata": {},
   "outputs": [],
   "source": [
    "from xgboost import XGBClassifier\n",
    "from sklearn.model_selection import train_test_split\n",
    "from sklearn.metrics import accuracy_score\n",
    "X_train, X_test, Y_train, Y_test = train_test_split(X, Y, test_size=0.14, random_state=7)"
   ]
  },
  {
   "cell_type": "markdown",
   "metadata": {},
   "source": [
    "And finally, **fit** the XGBoosting model."
   ]
  },
  {
   "cell_type": "code",
   "execution_count": 189,
   "metadata": {},
   "outputs": [
    {
     "data": {
      "text/plain": [
       "XGBClassifier(base_score=0.5, booster='gbtree', colsample_bylevel=1,\n",
       "       colsample_bytree=1, gamma=0, learning_rate=0.1, max_delta_step=0,\n",
       "       max_depth=3, min_child_weight=1, missing=None, n_estimators=100,\n",
       "       n_jobs=1, nthread=None, objective='binary:logistic', random_state=0,\n",
       "       reg_alpha=0, reg_lambda=1, scale_pos_weight=1, seed=None,\n",
       "       silent=True, subsample=1)"
      ]
     },
     "execution_count": 189,
     "metadata": {},
     "output_type": "execute_result"
    }
   ],
   "source": [
    "# Train\n",
    "model = XGBClassifier()\n",
    "model.fit(X_train, Y_train)"
   ]
  },
  {
   "cell_type": "code",
   "execution_count": 190,
   "metadata": {},
   "outputs": [
    {
     "name": "stdout",
     "output_type": "stream",
     "text": [
      "0.9642857142857143\n",
      "0.9948717948717949\n"
     ]
    }
   ],
   "source": [
    "# Evaluate\n",
    "Y_hat = [round(yhat) for yhat in model.predict(X_test)]\n",
    "print(accuracy_score(Y_test, Y_hat)) # Test set accuracy\n",
    "Y_hat = [round(yhat) for yhat in model.predict(X)]\n",
    "print(accuracy_score(Y, Y_hat)) # Full set accuracy"
   ]
  },
  {
   "cell_type": "markdown",
   "metadata": {},
   "source": [
    "Great! Without any tuning we were able to get 96.43% accuracy. We can do better with some fine tuning later.\n",
    "\n",
    "Next, let's take a stab at the UPDRS data. Same process to load the data."
   ]
  },
  {
   "cell_type": "code",
   "execution_count": 191,
   "metadata": {},
   "outputs": [
    {
     "data": {
      "text/html": [
       "<div>\n",
       "<style>\n",
       "    .dataframe thead tr:only-child th {\n",
       "        text-align: right;\n",
       "    }\n",
       "\n",
       "    .dataframe thead th {\n",
       "        text-align: left;\n",
       "    }\n",
       "\n",
       "    .dataframe tbody tr th {\n",
       "        vertical-align: top;\n",
       "    }\n",
       "</style>\n",
       "<table border=\"1\" class=\"dataframe\">\n",
       "  <thead>\n",
       "    <tr style=\"text-align: right;\">\n",
       "      <th></th>\n",
       "      <th>subject#</th>\n",
       "      <th>age</th>\n",
       "      <th>sex</th>\n",
       "      <th>test_time</th>\n",
       "      <th>motor_UPDRS</th>\n",
       "      <th>total_UPDRS</th>\n",
       "      <th>Jitter(%)</th>\n",
       "      <th>Jitter(Abs)</th>\n",
       "      <th>Jitter:RAP</th>\n",
       "      <th>Jitter:PPQ5</th>\n",
       "      <th>...</th>\n",
       "      <th>Shimmer(dB)</th>\n",
       "      <th>Shimmer:APQ3</th>\n",
       "      <th>Shimmer:APQ5</th>\n",
       "      <th>Shimmer:APQ11</th>\n",
       "      <th>Shimmer:DDA</th>\n",
       "      <th>NHR</th>\n",
       "      <th>HNR</th>\n",
       "      <th>RPDE</th>\n",
       "      <th>DFA</th>\n",
       "      <th>PPE</th>\n",
       "    </tr>\n",
       "  </thead>\n",
       "  <tbody>\n",
       "    <tr>\n",
       "      <th>0</th>\n",
       "      <td>1</td>\n",
       "      <td>72</td>\n",
       "      <td>0</td>\n",
       "      <td>5.6431</td>\n",
       "      <td>28.199</td>\n",
       "      <td>34.398</td>\n",
       "      <td>0.00662</td>\n",
       "      <td>0.000034</td>\n",
       "      <td>0.00401</td>\n",
       "      <td>0.00317</td>\n",
       "      <td>...</td>\n",
       "      <td>0.230</td>\n",
       "      <td>0.01438</td>\n",
       "      <td>0.01309</td>\n",
       "      <td>0.01662</td>\n",
       "      <td>0.04314</td>\n",
       "      <td>0.014290</td>\n",
       "      <td>21.640</td>\n",
       "      <td>0.41888</td>\n",
       "      <td>0.54842</td>\n",
       "      <td>0.16006</td>\n",
       "    </tr>\n",
       "    <tr>\n",
       "      <th>1</th>\n",
       "      <td>1</td>\n",
       "      <td>72</td>\n",
       "      <td>0</td>\n",
       "      <td>12.6660</td>\n",
       "      <td>28.447</td>\n",
       "      <td>34.894</td>\n",
       "      <td>0.00300</td>\n",
       "      <td>0.000017</td>\n",
       "      <td>0.00132</td>\n",
       "      <td>0.00150</td>\n",
       "      <td>...</td>\n",
       "      <td>0.179</td>\n",
       "      <td>0.00994</td>\n",
       "      <td>0.01072</td>\n",
       "      <td>0.01689</td>\n",
       "      <td>0.02982</td>\n",
       "      <td>0.011112</td>\n",
       "      <td>27.183</td>\n",
       "      <td>0.43493</td>\n",
       "      <td>0.56477</td>\n",
       "      <td>0.10810</td>\n",
       "    </tr>\n",
       "    <tr>\n",
       "      <th>2</th>\n",
       "      <td>1</td>\n",
       "      <td>72</td>\n",
       "      <td>0</td>\n",
       "      <td>19.6810</td>\n",
       "      <td>28.695</td>\n",
       "      <td>35.389</td>\n",
       "      <td>0.00481</td>\n",
       "      <td>0.000025</td>\n",
       "      <td>0.00205</td>\n",
       "      <td>0.00208</td>\n",
       "      <td>...</td>\n",
       "      <td>0.181</td>\n",
       "      <td>0.00734</td>\n",
       "      <td>0.00844</td>\n",
       "      <td>0.01458</td>\n",
       "      <td>0.02202</td>\n",
       "      <td>0.020220</td>\n",
       "      <td>23.047</td>\n",
       "      <td>0.46222</td>\n",
       "      <td>0.54405</td>\n",
       "      <td>0.21014</td>\n",
       "    </tr>\n",
       "    <tr>\n",
       "      <th>3</th>\n",
       "      <td>1</td>\n",
       "      <td>72</td>\n",
       "      <td>0</td>\n",
       "      <td>25.6470</td>\n",
       "      <td>28.905</td>\n",
       "      <td>35.810</td>\n",
       "      <td>0.00528</td>\n",
       "      <td>0.000027</td>\n",
       "      <td>0.00191</td>\n",
       "      <td>0.00264</td>\n",
       "      <td>...</td>\n",
       "      <td>0.327</td>\n",
       "      <td>0.01106</td>\n",
       "      <td>0.01265</td>\n",
       "      <td>0.01963</td>\n",
       "      <td>0.03317</td>\n",
       "      <td>0.027837</td>\n",
       "      <td>24.445</td>\n",
       "      <td>0.48730</td>\n",
       "      <td>0.57794</td>\n",
       "      <td>0.33277</td>\n",
       "    </tr>\n",
       "    <tr>\n",
       "      <th>4</th>\n",
       "      <td>1</td>\n",
       "      <td>72</td>\n",
       "      <td>0</td>\n",
       "      <td>33.6420</td>\n",
       "      <td>29.187</td>\n",
       "      <td>36.375</td>\n",
       "      <td>0.00335</td>\n",
       "      <td>0.000020</td>\n",
       "      <td>0.00093</td>\n",
       "      <td>0.00130</td>\n",
       "      <td>...</td>\n",
       "      <td>0.176</td>\n",
       "      <td>0.00679</td>\n",
       "      <td>0.00929</td>\n",
       "      <td>0.01819</td>\n",
       "      <td>0.02036</td>\n",
       "      <td>0.011625</td>\n",
       "      <td>26.126</td>\n",
       "      <td>0.47188</td>\n",
       "      <td>0.56122</td>\n",
       "      <td>0.19361</td>\n",
       "    </tr>\n",
       "  </tbody>\n",
       "</table>\n",
       "<p>5 rows × 22 columns</p>\n",
       "</div>"
      ],
      "text/plain": [
       "   subject#  age  sex  test_time  motor_UPDRS  total_UPDRS  Jitter(%)  \\\n",
       "0         1   72    0     5.6431       28.199       34.398    0.00662   \n",
       "1         1   72    0    12.6660       28.447       34.894    0.00300   \n",
       "2         1   72    0    19.6810       28.695       35.389    0.00481   \n",
       "3         1   72    0    25.6470       28.905       35.810    0.00528   \n",
       "4         1   72    0    33.6420       29.187       36.375    0.00335   \n",
       "\n",
       "   Jitter(Abs)  Jitter:RAP  Jitter:PPQ5   ...     Shimmer(dB)  Shimmer:APQ3  \\\n",
       "0     0.000034     0.00401      0.00317   ...           0.230       0.01438   \n",
       "1     0.000017     0.00132      0.00150   ...           0.179       0.00994   \n",
       "2     0.000025     0.00205      0.00208   ...           0.181       0.00734   \n",
       "3     0.000027     0.00191      0.00264   ...           0.327       0.01106   \n",
       "4     0.000020     0.00093      0.00130   ...           0.176       0.00679   \n",
       "\n",
       "   Shimmer:APQ5  Shimmer:APQ11  Shimmer:DDA       NHR     HNR     RPDE  \\\n",
       "0       0.01309        0.01662      0.04314  0.014290  21.640  0.41888   \n",
       "1       0.01072        0.01689      0.02982  0.011112  27.183  0.43493   \n",
       "2       0.00844        0.01458      0.02202  0.020220  23.047  0.46222   \n",
       "3       0.01265        0.01963      0.03317  0.027837  24.445  0.48730   \n",
       "4       0.00929        0.01819      0.02036  0.011625  26.126  0.47188   \n",
       "\n",
       "       DFA      PPE  \n",
       "0  0.54842  0.16006  \n",
       "1  0.56477  0.10810  \n",
       "2  0.54405  0.21014  \n",
       "3  0.57794  0.33277  \n",
       "4  0.56122  0.19361  \n",
       "\n",
       "[5 rows x 22 columns]"
      ]
     },
     "execution_count": 191,
     "metadata": {},
     "output_type": "execute_result"
    }
   ],
   "source": [
    "udf = pd.read_csv('parkinsons_updrs.data')\n",
    "udf.head()"
   ]
  },
  {
   "cell_type": "markdown",
   "metadata": {},
   "source": [
    "**Careful!** This data has multioutput so we'll have to dress out features and labels accordingly. \n",
    "\n",
    "We're trying to predict motor and total UPDRS (as per [this](https://archive.ics.uci.edu/ml/machine-learning-databases/parkinsons/telemonitoring/parkinsons_updrs.names))"
   ]
  },
  {
   "cell_type": "code",
   "execution_count": 192,
   "metadata": {},
   "outputs": [],
   "source": [
    "features = udf.loc[:, (udf.columns != 'motor_UPDRS') & (udf.columns != 'total_UPDRS')].values[:, 1:]\n",
    "labels = udf.loc[:, (udf.columns == 'motor_UPDRS') | (udf.columns == 'total_UPDRS')].values"
   ]
  },
  {
   "cell_type": "markdown",
   "metadata": {},
   "source": [
    "We scale both the features and labels since the labels are continuous this time."
   ]
  },
  {
   "cell_type": "code",
   "execution_count": 193,
   "metadata": {},
   "outputs": [],
   "source": [
    "X = scaler.fit_transform(features)\n",
    "Y = scaler.fit_transform(labels)"
   ]
  },
  {
   "cell_type": "markdown",
   "metadata": {},
   "source": [
    "Let's go with 10% test size."
   ]
  },
  {
   "cell_type": "code",
   "execution_count": 263,
   "metadata": {
    "collapsed": true
   },
   "outputs": [],
   "source": [
    "X_train, X_test, Y_train, Y_test = train_test_split(X, Y, test_size=0.1, random_state=7)"
   ]
  },
  {
   "cell_type": "markdown",
   "metadata": {},
   "source": [
    "This data may be better suited to a NN so let's use Keras this time."
   ]
  },
  {
   "cell_type": "code",
   "execution_count": 284,
   "metadata": {},
   "outputs": [],
   "source": [
    "from keras.models import Sequential\n",
    "from keras.layers import Dense, LSTM"
   ]
  },
  {
   "cell_type": "markdown",
   "metadata": {},
   "source": [
    "We can make a simple Sequential model. We'll use tanh as our activation, sgd as the optimizer, and mse as our loss since this is a continuous problem. We can also afford to validate with 25% of our data. Set batch size to 1 because we can handle it!"
   ]
  },
  {
   "cell_type": "code",
   "execution_count": 290,
   "metadata": {},
   "outputs": [
    {
     "name": "stdout",
     "output_type": "stream",
     "text": [
      "Train on 3965 samples, validate on 1322 samples\n",
      "Epoch 1/5\n",
      "3965/3965 [==============================] - 4s 1ms/step - loss: 0.1906 - val_loss: 0.1944\n",
      "Epoch 2/5\n",
      "3965/3965 [==============================] - 4s 1ms/step - loss: 0.1659 - val_loss: 0.1551\n",
      "Epoch 3/5\n",
      "3965/3965 [==============================] - 4s 1ms/step - loss: 0.1506 - val_loss: 0.1628\n",
      "Epoch 4/5\n",
      "3965/3965 [==============================] - 4s 1ms/step - loss: 0.1466 - val_loss: 0.1444\n",
      "Epoch 5/5\n",
      "3965/3965 [==============================] - 4s 1ms/step - loss: 0.1412 - val_loss: 0.1444\n"
     ]
    },
    {
     "data": {
      "text/plain": [
       "<keras.callbacks.History at 0x7f6d3fa55908>"
      ]
     },
     "execution_count": 290,
     "metadata": {},
     "output_type": "execute_result"
    }
   ],
   "source": [
    "u_model = Sequential()\n",
    "u_model.add(Dense(32, input_shape=(X.shape[1],)))\n",
    "u_model.add(Dense(16, activation='tanh'))\n",
    "u_model.add(Dense(8, activation='tanh'))\n",
    "u_model.add(Dense(72, activation='tanh'))\n",
    "u_model.add(Dense(Y.shape[1], activation='tanh'))\n",
    "u_model.compile(optimizer='sgd', loss='mean_squared_error')\n",
    "u_model.fit(X_train, Y_train, batch_size=1, epochs=5, validation_split=0.25, shuffle=True)"
   ]
  },
  {
   "cell_type": "markdown",
   "metadata": {},
   "source": [
    "We can see it's training just fine. Let's train to 20 total epochs (15 more) and see if it levels off."
   ]
  },
  {
   "cell_type": "code",
   "execution_count": 291,
   "metadata": {},
   "outputs": [
    {
     "name": "stdout",
     "output_type": "stream",
     "text": [
      "Train on 3965 samples, validate on 1322 samples\n",
      "Epoch 1/15\n",
      "3965/3965 [==============================] - 5s 1ms/step - loss: 0.1367 - val_loss: 0.1287\n",
      "Epoch 2/15\n",
      "3965/3965 [==============================] - 4s 1ms/step - loss: 0.1321 - val_loss: 0.1295\n",
      "Epoch 3/15\n",
      "3965/3965 [==============================] - 5s 1ms/step - loss: 0.1283 - val_loss: 0.1321\n",
      "Epoch 4/15\n",
      "3965/3965 [==============================] - 4s 1ms/step - loss: 0.1260 - val_loss: 0.1306\n",
      "Epoch 5/15\n",
      "3965/3965 [==============================] - 4s 1ms/step - loss: 0.1231 - val_loss: 0.1545\n",
      "Epoch 6/15\n",
      "3965/3965 [==============================] - 5s 1ms/step - loss: 0.1191 - val_loss: 0.1730\n",
      "Epoch 7/15\n",
      "3965/3965 [==============================] - 4s 1ms/step - loss: 0.1178 - val_loss: 0.1147\n",
      "Epoch 8/15\n",
      "3965/3965 [==============================] - 4s 1ms/step - loss: 0.1163 - val_loss: 0.1369\n",
      "Epoch 9/15\n",
      "3965/3965 [==============================] - 4s 1ms/step - loss: 0.1142 - val_loss: 0.1147\n",
      "Epoch 10/15\n",
      "3965/3965 [==============================] - 4s 958us/step - loss: 0.1115 - val_loss: 0.1113\n",
      "Epoch 11/15\n",
      "3965/3965 [==============================] - 4s 1ms/step - loss: 0.1089 - val_loss: 0.1161\n",
      "Epoch 12/15\n",
      "3965/3965 [==============================] - 4s 1ms/step - loss: 0.1087 - val_loss: 0.1072\n",
      "Epoch 13/15\n",
      "3965/3965 [==============================] - 4s 1ms/step - loss: 0.1056 - val_loss: 0.1152\n",
      "Epoch 14/15\n",
      "3965/3965 [==============================] - 4s 1ms/step - loss: 0.1047 - val_loss: 0.1005\n",
      "Epoch 15/15\n",
      "3965/3965 [==============================] - 4s 1ms/step - loss: 0.1024 - val_loss: 0.1031\n"
     ]
    },
    {
     "data": {
      "text/plain": [
       "<keras.callbacks.History at 0x7f6d583b7668>"
      ]
     },
     "execution_count": 291,
     "metadata": {},
     "output_type": "execute_result"
    }
   ],
   "source": [
    "u_model.fit(X_train, Y_train, batch_size=1, epochs=15, validation_split=0.25, shuffle=True)"
   ]
  },
  {
   "cell_type": "markdown",
   "metadata": {},
   "source": [
    "Seems like it's still got a bit to go before the minima--I tested it and found that it levels off around 100 total epochs (75 more)."
   ]
  },
  {
   "cell_type": "code",
   "execution_count": 311,
   "metadata": {
    "scrolled": false
   },
   "outputs": [
    {
     "name": "stdout",
     "output_type": "stream",
     "text": [
      "Train on 3965 samples, validate on 1322 samples\n",
      "Epoch 1/55\n",
      "3965/3965 [==============================] - 4s 1ms/step - loss: 0.0634 - val_loss: 0.0697\n",
      "Epoch 2/55\n",
      "3965/3965 [==============================] - 4s 1ms/step - loss: 0.0623 - val_loss: 0.0663\n",
      "Epoch 3/55\n",
      "3965/3965 [==============================] - 4s 1ms/step - loss: 0.0611 - val_loss: 0.0625\n",
      "Epoch 4/55\n",
      "3965/3965 [==============================] - 5s 1ms/step - loss: 0.0612 - val_loss: 0.0629\n",
      "Epoch 5/55\n",
      "3965/3965 [==============================] - 4s 1ms/step - loss: 0.0588 - val_loss: 0.0634\n",
      "Epoch 6/55\n",
      "3965/3965 [==============================] - 4s 1ms/step - loss: 0.0603 - val_loss: 0.0612\n",
      "Epoch 7/55\n",
      "3965/3965 [==============================] - 4s 1ms/step - loss: 0.0587 - val_loss: 0.0616\n",
      "Epoch 8/55\n",
      "3965/3965 [==============================] - 4s 1ms/step - loss: 0.0580 - val_loss: 0.0678\n",
      "Epoch 9/55\n",
      "3965/3965 [==============================] - 4s 1ms/step - loss: 0.0584 - val_loss: 0.0649\n",
      "Epoch 10/55\n",
      "3965/3965 [==============================] - 4s 1ms/step - loss: 0.0582 - val_loss: 0.0554\n",
      "Epoch 11/55\n",
      "3965/3965 [==============================] - 5s 1ms/step - loss: 0.0585 - val_loss: 0.0601\n",
      "Epoch 12/55\n",
      "3965/3965 [==============================] - 5s 1ms/step - loss: 0.0577 - val_loss: 0.0651\n",
      "Epoch 13/55\n",
      "3965/3965 [==============================] - 5s 1ms/step - loss: 0.0575 - val_loss: 0.0606\n",
      "Epoch 14/55\n",
      "3965/3965 [==============================] - 4s 1ms/step - loss: 0.0559 - val_loss: 0.0629\n",
      "Epoch 15/55\n",
      "3965/3965 [==============================] - 4s 1ms/step - loss: 0.0563 - val_loss: 0.0574\n",
      "Epoch 16/55\n",
      "3965/3965 [==============================] - 4s 1ms/step - loss: 0.0541 - val_loss: 0.0674\n",
      "Epoch 17/55\n",
      "3965/3965 [==============================] - 4s 999us/step - loss: 0.0550 - val_loss: 0.0647\n",
      "Epoch 18/55\n",
      "3965/3965 [==============================] - 4s 1ms/step - loss: 0.0554 - val_loss: 0.0621\n",
      "Epoch 19/55\n",
      "3965/3965 [==============================] - 4s 940us/step - loss: 0.0525 - val_loss: 0.0566\n",
      "Epoch 20/55\n",
      "3965/3965 [==============================] - 4s 938us/step - loss: 0.0528 - val_loss: 0.0673\n",
      "Epoch 21/55\n",
      "3965/3965 [==============================] - 3s 880us/step - loss: 0.0533 - val_loss: 0.0563\n",
      "Epoch 22/55\n",
      "3965/3965 [==============================] - 4s 947us/step - loss: 0.0520 - val_loss: 0.0559\n",
      "Epoch 23/55\n",
      "3965/3965 [==============================] - 4s 935us/step - loss: 0.0525 - val_loss: 0.0657\n",
      "Epoch 24/55\n",
      "3965/3965 [==============================] - 4s 935us/step - loss: 0.0507 - val_loss: 0.0692\n",
      "Epoch 25/55\n",
      "3965/3965 [==============================] - 4s 955us/step - loss: 0.0510 - val_loss: 0.0521\n",
      "Epoch 26/55\n",
      "3965/3965 [==============================] - 4s 929us/step - loss: 0.0500 - val_loss: 0.0514\n",
      "Epoch 27/55\n",
      "3965/3965 [==============================] - 4s 954us/step - loss: 0.0485 - val_loss: 0.0784\n",
      "Epoch 28/55\n",
      "3965/3965 [==============================] - 5s 1ms/step - loss: 0.0498 - val_loss: 0.0507\n",
      "Epoch 29/55\n",
      "3965/3965 [==============================] - 5s 1ms/step - loss: 0.0492 - val_loss: 0.0489\n",
      "Epoch 30/55\n",
      "3965/3965 [==============================] - 4s 969us/step - loss: 0.0480 - val_loss: 0.0641\n",
      "Epoch 31/55\n",
      "3965/3965 [==============================] - 4s 958us/step - loss: 0.0496 - val_loss: 0.0462\n",
      "Epoch 32/55\n",
      "3965/3965 [==============================] - 4s 970us/step - loss: 0.0473 - val_loss: 0.0526\n",
      "Epoch 33/55\n",
      "3965/3965 [==============================] - 4s 971us/step - loss: 0.0488 - val_loss: 0.0547\n",
      "Epoch 34/55\n",
      "3965/3965 [==============================] - 4s 1ms/step - loss: 0.0499 - val_loss: 0.0466\n",
      "Epoch 35/55\n",
      "3965/3965 [==============================] - 4s 942us/step - loss: 0.0469 - val_loss: 0.0782\n",
      "Epoch 36/55\n",
      "3965/3965 [==============================] - 4s 972us/step - loss: 0.0490 - val_loss: 0.0479\n",
      "Epoch 37/55\n",
      "3965/3965 [==============================] - 4s 942us/step - loss: 0.0473 - val_loss: 0.0472\n",
      "Epoch 38/55\n",
      "3965/3965 [==============================] - 4s 951us/step - loss: 0.0455 - val_loss: 0.0624\n",
      "Epoch 39/55\n",
      "3965/3965 [==============================] - 4s 921us/step - loss: 0.0474 - val_loss: 0.0478\n",
      "Epoch 40/55\n",
      "3965/3965 [==============================] - 4s 917us/step - loss: 0.0474 - val_loss: 0.0430\n",
      "Epoch 41/55\n",
      "3965/3965 [==============================] - 4s 1ms/step - loss: 0.0457 - val_loss: 0.0514\n",
      "Epoch 42/55\n",
      "3965/3965 [==============================] - 4s 985us/step - loss: 0.0466 - val_loss: 0.0425\n",
      "Epoch 43/55\n",
      "3965/3965 [==============================] - 4s 1ms/step - loss: 0.0459 - val_loss: 0.0489\n",
      "Epoch 44/55\n",
      "3965/3965 [==============================] - 4s 977us/step - loss: 0.0479 - val_loss: 0.0608\n",
      "Epoch 45/55\n",
      "3965/3965 [==============================] - 4s 1ms/step - loss: 0.0452 - val_loss: 0.0436\n",
      "Epoch 46/55\n",
      "3965/3965 [==============================] - 4s 1ms/step - loss: 0.0434 - val_loss: 0.0455\n",
      "Epoch 47/55\n",
      "3965/3965 [==============================] - 4s 1ms/step - loss: 0.0450 - val_loss: 0.0457\n",
      "Epoch 48/55\n",
      "3965/3965 [==============================] - 4s 1ms/step - loss: 0.0481 - val_loss: 0.0735\n",
      "Epoch 49/55\n",
      "3965/3965 [==============================] - 5s 1ms/step - loss: 0.0491 - val_loss: 0.0394\n",
      "Epoch 50/55\n",
      "3965/3965 [==============================] - 4s 1ms/step - loss: 0.0413 - val_loss: 0.0429\n",
      "Epoch 51/55\n",
      "3965/3965 [==============================] - 4s 1ms/step - loss: 0.0464 - val_loss: 0.0768\n",
      "Epoch 52/55\n",
      "3965/3965 [==============================] - 4s 1ms/step - loss: 0.0533 - val_loss: 0.0419\n",
      "Epoch 53/55\n",
      "3965/3965 [==============================] - 5s 1ms/step - loss: 0.0449 - val_loss: 0.0472\n",
      "Epoch 54/55\n",
      "3965/3965 [==============================] - 4s 1ms/step - loss: 0.0414 - val_loss: 0.0405\n",
      "Epoch 55/55\n",
      "3965/3965 [==============================] - 4s 1ms/step - loss: 0.0470 - val_loss: 0.0447\n"
     ]
    },
    {
     "data": {
      "text/plain": [
       "<keras.callbacks.History at 0x7f6d3e3a8da0>"
      ]
     },
     "execution_count": 311,
     "metadata": {},
     "output_type": "execute_result"
    }
   ],
   "source": [
    "u_model.fit(X_train, Y_train, batch_size=1, epochs=75, validation_split=0.25, shuffle=True)"
   ]
  },
  {
   "cell_type": "markdown",
   "metadata": {},
   "source": [
    "Keep fitting at 5 epochs until you see loss and val_loss level out and stop decreasing."
   ]
  },
  {
   "cell_type": "code",
   "execution_count": 312,
   "metadata": {},
   "outputs": [
    {
     "data": {
      "image/png": "[encoded data removed]",
      "text/plain": [
       "<matplotlib.figure.Figure at 0x7f6d3e1f1f60>"
      ]
     },
     "metadata": {},
     "output_type": "display_data"
    },
    {
     "data": {
      "image/png": "[encoded data removed]",
      "text/plain": [
       "<matplotlib.figure.Figure at 0x7f6d3db8ee48>"
      ]
     },
     "metadata": {},
     "output_type": "display_data"
    }
   ],
   "source": [
    "Y_hat = u_model.predict(X_test)\n",
    "error = np.abs((Y_hat - Y_test) / Y_test)\n",
    "plt.show(plt.plot(error[:, 0][error[:, 0] > 3]))\n",
    "plt.show(plt.plot(error[:, 1][error[:, 1] > 5]))"
   ]
  },
  {
   "cell_type": "markdown",
   "metadata": {},
   "source": [
    "There seem to be some certain samples that have high error rates. The overall loss is, however, low.\n",
    "\n",
    "Let's go ahead and **save** both our models."
   ]
  },
  {
   "cell_type": "code",
   "execution_count": 318,
   "metadata": {},
   "outputs": [],
   "source": [
    "from xgboost import Booster\n",
    "\n",
    "model._Booster.save_model('model.bin')\n",
    "\n",
    "def load_xgb_model():\n",
    "    _m = XGBClassifier()\n",
    "    _b = Booster()\n",
    "    _b.load_model('model.bin')\n",
    "    _m._Booster = _b\n",
    "    return _m\n",
    "\n",
    "model = load_xgb_model()"
   ]
  },
  {
   "cell_type": "code",
   "execution_count": 321,
   "metadata": {},
   "outputs": [],
   "source": [
    "from keras.models import load_model\n",
    "\n",
    "u_model.save('u_model.hd5')\n",
    "u_model = load_model('u_model.hd5')"
   ]
  },
  {
   "cell_type": "markdown",
   "metadata": {},
   "source": [
    "And we're set!"
   ]
  }
 ],
 "metadata": {
  "kernelspec": {
   "display_name": "Python 3",
   "language": "python",
   "name": "python3"
  },
  "language_info": {
   "codemirror_mode": {
    "name": "ipython",
    "version": 3
   },
   "file_extension": ".py",
   "mimetype": "text/x-python",
   "name": "python",
   "nbconvert_exporter": "python",
   "pygments_lexer": "ipython3",
   "version": "3.6.3"
  }
 },
 "nbformat": 4,
 "nbformat_minor": 2
}
